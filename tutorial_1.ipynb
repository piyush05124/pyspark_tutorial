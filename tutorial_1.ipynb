{
 "cells": [
  {
   "cell_type": "code",
   "execution_count": 9,
   "id": "4a7a5a14",
   "metadata": {},
   "outputs": [],
   "source": [
    "from warnings import filterwarnings\n",
    "filterwarnings('ignore')\n",
    "import pandas as pd\n",
    "from pyspark.sql import SparkSession\n",
    "spark = SparkSession.builder.appName(\"PySparkTest\").getOrCreate()\n",
    "spark.sparkContext.setLogLevel(\"ERROR\")\n",
    "\n",
    "dataset_path = '/media/arvis/AEAA2666AA262B73/pyspark_tutorial/datasets/'"
   ]
  },
  {
   "cell_type": "markdown",
   "id": "126b9fd8",
   "metadata": {},
   "source": [
    "## DataFrame Creation"
   ]
  },
  {
   "cell_type": "code",
   "execution_count": 10,
   "id": "ac0b8c53",
   "metadata": {},
   "outputs": [
    {
     "name": "stdout",
     "output_type": "stream",
     "text": [
      "+-----+---+\n",
      "| Name|Age|\n",
      "+-----+---+\n",
      "|Alice| 25|\n",
      "|  Bob| 30|\n",
      "|Cathy| 29|\n",
      "+-----+---+\n",
      "\n"
     ]
    }
   ],
   "source": [
    "data = [(\"Alice\", 25), (\"Bob\", 30), (\"Cathy\", 29)]\n",
    "columns = [\"Name\", \"Age\"]\n",
    "df = spark.createDataFrame(data, columns)\n",
    "df.show()"
   ]
  },
  {
   "cell_type": "code",
   "execution_count": 3,
   "id": "f8c82eb6",
   "metadata": {},
   "outputs": [
    {
     "name": "stdout",
     "output_type": "stream",
     "text": [
      "root\n",
      " |-- Name: string (nullable = true)\n",
      " |-- Age: long (nullable = true)\n",
      "\n"
     ]
    }
   ],
   "source": [
    "df.printSchema()"
   ]
  },
  {
   "cell_type": "markdown",
   "id": "c875bac1",
   "metadata": {},
   "source": [
    "## Importing csv file"
   ]
  },
  {
   "cell_type": "code",
   "execution_count": 4,
   "id": "4b10f1df",
   "metadata": {},
   "outputs": [
    {
     "name": "stdout",
     "output_type": "stream",
     "text": [
      "+--------------------+--------------------+--------------------+--------------------+\n",
      "|                 _c0|               label|                text|           label_num|\n",
      "+--------------------+--------------------+--------------------+--------------------+\n",
      "|                 605|                 ham|Subject: enron me...|                NULL|\n",
      "|this is a follow ...| 4 / 3 / 00 { pre...|                NULL|                NULL|\n",
      "|flow data provide...|                NULL|                NULL|                NULL|\n",
      "|please override p...|                NULL|                NULL|                NULL|\n",
      "|activity you can ...|                NULL|                NULL|                NULL|\n",
      "|this change is ne...|                   0|                NULL|                NULL|\n",
      "|                2349|                 ham|Subject: hpl nom ...|                NULL|\n",
      "|( see attached fi...|                NULL|                NULL|                NULL|\n",
      "|  - hplnol 09 . xls\"|                   0|                NULL|                NULL|\n",
      "|                3624|                 ham|Subject: neon ret...|                NULL|\n",
      "|           ho ho ho | we ' re around t...|                NULL|                NULL|\n",
      "|i know that this ...| and that it ' s ...| but life does go...| and that ' s wha...|\n",
      "|on the calender t...| the retreat was ...| we ' re going to...| january 12 - 13 ...|\n",
      "|i think we all ag...| but it can be a ...|           etc . so | brad came up wit...|\n",
      "|the first option ...| where we ' d hav...|      real relaxing | but also close t...|\n",
      "|the second option...| have dinner toge...| and then have de...| but the trade of...|\n",
      "|email me back wit...| and of course if...| preferably by th...| no complaining a...|\n",
      "|have a great week...|         great golf |      great fishing |     great shopping |\n",
      "|              bobby\"|                   0|                NULL|                NULL|\n",
      "|                4685|                spam|Subject: photosho...|                NULL|\n",
      "+--------------------+--------------------+--------------------+--------------------+\n",
      "only showing top 20 rows\n"
     ]
    }
   ],
   "source": [
    "dcsv = spark.read.csv(dataset_path+'spam_ham_dataset.csv',header=True,inferSchema=True)\n",
    "dcsv.show()\n"
   ]
  },
  {
   "cell_type": "markdown",
   "id": "6730a773",
   "metadata": {},
   "source": [
    "<b>Using Pandas</b>"
   ]
  },
  {
   "cell_type": "code",
   "execution_count": 5,
   "id": "82412ce9",
   "metadata": {},
   "outputs": [
    {
     "data": {
      "text/html": [
       "<div>\n",
       "<style scoped>\n",
       "    .dataframe tbody tr th:only-of-type {\n",
       "        vertical-align: middle;\n",
       "    }\n",
       "\n",
       "    .dataframe tbody tr th {\n",
       "        vertical-align: top;\n",
       "    }\n",
       "\n",
       "    .dataframe thead th {\n",
       "        text-align: right;\n",
       "    }\n",
       "</style>\n",
       "<table border=\"1\" class=\"dataframe\">\n",
       "  <thead>\n",
       "    <tr style=\"text-align: right;\">\n",
       "      <th></th>\n",
       "      <th>Unnamed: 0</th>\n",
       "      <th>label</th>\n",
       "      <th>text</th>\n",
       "      <th>label_num</th>\n",
       "    </tr>\n",
       "  </thead>\n",
       "  <tbody>\n",
       "    <tr>\n",
       "      <th>0</th>\n",
       "      <td>605</td>\n",
       "      <td>ham</td>\n",
       "      <td>Subject: enron methanol ; meter # : 988291\\r\\n...</td>\n",
       "      <td>0</td>\n",
       "    </tr>\n",
       "    <tr>\n",
       "      <th>1</th>\n",
       "      <td>2349</td>\n",
       "      <td>ham</td>\n",
       "      <td>Subject: hpl nom for january 9 , 2001\\r\\n( see...</td>\n",
       "      <td>0</td>\n",
       "    </tr>\n",
       "    <tr>\n",
       "      <th>2</th>\n",
       "      <td>3624</td>\n",
       "      <td>ham</td>\n",
       "      <td>Subject: neon retreat\\r\\nho ho ho , we ' re ar...</td>\n",
       "      <td>0</td>\n",
       "    </tr>\n",
       "    <tr>\n",
       "      <th>3</th>\n",
       "      <td>4685</td>\n",
       "      <td>spam</td>\n",
       "      <td>Subject: photoshop , windows , office . cheap ...</td>\n",
       "      <td>1</td>\n",
       "    </tr>\n",
       "    <tr>\n",
       "      <th>4</th>\n",
       "      <td>2030</td>\n",
       "      <td>ham</td>\n",
       "      <td>Subject: re : indian springs\\r\\nthis deal is t...</td>\n",
       "      <td>0</td>\n",
       "    </tr>\n",
       "    <tr>\n",
       "      <th>...</th>\n",
       "      <td>...</td>\n",
       "      <td>...</td>\n",
       "      <td>...</td>\n",
       "      <td>...</td>\n",
       "    </tr>\n",
       "    <tr>\n",
       "      <th>5166</th>\n",
       "      <td>1518</td>\n",
       "      <td>ham</td>\n",
       "      <td>Subject: put the 10 on the ft\\r\\nthe transport...</td>\n",
       "      <td>0</td>\n",
       "    </tr>\n",
       "    <tr>\n",
       "      <th>5167</th>\n",
       "      <td>404</td>\n",
       "      <td>ham</td>\n",
       "      <td>Subject: 3 / 4 / 2000 and following noms\\r\\nhp...</td>\n",
       "      <td>0</td>\n",
       "    </tr>\n",
       "    <tr>\n",
       "      <th>5168</th>\n",
       "      <td>2933</td>\n",
       "      <td>ham</td>\n",
       "      <td>Subject: calpine daily gas nomination\\r\\n&gt;\\r\\n...</td>\n",
       "      <td>0</td>\n",
       "    </tr>\n",
       "    <tr>\n",
       "      <th>5169</th>\n",
       "      <td>1409</td>\n",
       "      <td>ham</td>\n",
       "      <td>Subject: industrial worksheets for august 2000...</td>\n",
       "      <td>0</td>\n",
       "    </tr>\n",
       "    <tr>\n",
       "      <th>5170</th>\n",
       "      <td>4807</td>\n",
       "      <td>spam</td>\n",
       "      <td>Subject: important online banking alert\\r\\ndea...</td>\n",
       "      <td>1</td>\n",
       "    </tr>\n",
       "  </tbody>\n",
       "</table>\n",
       "<p>5171 rows × 4 columns</p>\n",
       "</div>"
      ],
      "text/plain": [
       "      Unnamed: 0 label                                               text  \\\n",
       "0            605   ham  Subject: enron methanol ; meter # : 988291\\r\\n...   \n",
       "1           2349   ham  Subject: hpl nom for january 9 , 2001\\r\\n( see...   \n",
       "2           3624   ham  Subject: neon retreat\\r\\nho ho ho , we ' re ar...   \n",
       "3           4685  spam  Subject: photoshop , windows , office . cheap ...   \n",
       "4           2030   ham  Subject: re : indian springs\\r\\nthis deal is t...   \n",
       "...          ...   ...                                                ...   \n",
       "5166        1518   ham  Subject: put the 10 on the ft\\r\\nthe transport...   \n",
       "5167         404   ham  Subject: 3 / 4 / 2000 and following noms\\r\\nhp...   \n",
       "5168        2933   ham  Subject: calpine daily gas nomination\\r\\n>\\r\\n...   \n",
       "5169        1409   ham  Subject: industrial worksheets for august 2000...   \n",
       "5170        4807  spam  Subject: important online banking alert\\r\\ndea...   \n",
       "\n",
       "      label_num  \n",
       "0             0  \n",
       "1             0  \n",
       "2             0  \n",
       "3             1  \n",
       "4             0  \n",
       "...         ...  \n",
       "5166          0  \n",
       "5167          0  \n",
       "5168          0  \n",
       "5169          0  \n",
       "5170          1  \n",
       "\n",
       "[5171 rows x 4 columns]"
      ]
     },
     "execution_count": 5,
     "metadata": {},
     "output_type": "execute_result"
    }
   ],
   "source": [
    "pd.read_csv(dataset_path+\"spam_ham_dataset.csv\",index_col=None)"
   ]
  },
  {
   "cell_type": "markdown",
   "id": "ecb400c3",
   "metadata": {},
   "source": [
    "#### "
   ]
  },
  {
   "cell_type": "markdown",
   "id": "1fdc0653",
   "metadata": {},
   "source": [
    "<b> Observation: </b> when used spark.read.csv() it yielded wrong formated data as compared to pandas"
   ]
  },
  {
   "cell_type": "markdown",
   "id": "75a928cf",
   "metadata": {},
   "source": [
    "#### "
   ]
  },
  {
   "cell_type": "markdown",
   "id": "82e5eaf7",
   "metadata": {},
   "source": [
    "<b>:: Solution :: </b>"
   ]
  },
  {
   "cell_type": "code",
   "execution_count": 6,
   "id": "9ac19ed0",
   "metadata": {},
   "outputs": [
    {
     "name": "stdout",
     "output_type": "stream",
     "text": [
      "+--------------------+---------+\n",
      "|                text|label_num|\n",
      "+--------------------+---------+\n",
      "|Subject: enron me...|        0|\n",
      "|Subject: hpl nom ...|        0|\n",
      "|Subject: neon ret...|        0|\n",
      "|Subject: photosho...|        1|\n",
      "|Subject: re : ind...|        0|\n",
      "|Subject: ehronlin...|        0|\n",
      "|Subject: spring s...|        0|\n",
      "|Subject: looking ...|        1|\n",
      "|Subject: noms / a...|        0|\n",
      "|Subject: nominati...|        0|\n",
      "|Subject: vocable ...|        1|\n",
      "|Subject: report 0...|        1|\n",
      "|Subject: enron / ...|        0|\n",
      "|Subject: vic . od...|        1|\n",
      "|Subject: tenaska ...|        0|\n",
      "|Subject: underpri...|        1|\n",
      "|Subject: re : fir...|        0|\n",
      "|Subject: swift - ...|        0|\n",
      "|Subject: meter va...|        0|\n",
      "|Subject: addition...|        0|\n",
      "+--------------------+---------+\n",
      "only showing top 20 rows\n"
     ]
    }
   ],
   "source": [
    "from pyspark.sql import SparkSession\n",
    "\n",
    "# Start Spark session\n",
    "spark = SparkSession.builder.appName(\"SpamHamSQL\").getOrCreate()\n",
    "\n",
    "# Load CSV into DataFrame\n",
    "# df = spark.read.option(\"header\", True).csv(dataset_path+\"spam_ham_dataset.csv\")\n",
    "df = spark.read.option(\"header\", True) \\\n",
    "               .option(\"multiLine\", True) \\\n",
    "               .option(\"escape\", \"\\\"\") \\\n",
    "               .option(\"quote\", \"\\\"\") \\\n",
    "               .option(\"inferSchema\", True) \\\n",
    "               .csv(dataset_path+\"spam_ham_dataset.csv\")\n",
    "# Register as temporary SQL table (view)\n",
    "df.createOrReplaceTempView(\"spam_ham\")\n",
    "\n",
    "# Run SQL query: Select first 5 rows\n",
    "result = spark.sql(\"SELECT text,label_num FROM spam_ham\")\n",
    "\n",
    "# Show result\n",
    "result.show()\n"
   ]
  },
  {
   "cell_type": "code",
   "execution_count": 7,
   "id": "7beb0e2b",
   "metadata": {},
   "outputs": [
    {
     "data": {
      "text/plain": [
       "pyspark.sql.classic.dataframe.DataFrame"
      ]
     },
     "execution_count": 7,
     "metadata": {},
     "output_type": "execute_result"
    }
   ],
   "source": [
    "type(result)"
   ]
  },
  {
   "cell_type": "markdown",
   "id": "30103dc2",
   "metadata": {},
   "source": [
    "<b>Unique Labels</b>"
   ]
  },
  {
   "cell_type": "code",
   "execution_count": 8,
   "id": "5d007fa4",
   "metadata": {},
   "outputs": [
    {
     "name": "stdout",
     "output_type": "stream",
     "text": [
      "+---------+\n",
      "|label_num|\n",
      "+---------+\n",
      "|        1|\n",
      "|        0|\n",
      "+---------+\n",
      "\n"
     ]
    }
   ],
   "source": [
    "result.select('label_num').distinct().show()\n"
   ]
  }
 ],
 "metadata": {
  "kernelspec": {
   "display_name": "Python 3 (ipykernel)",
   "language": "python",
   "name": "python3"
  },
  "language_info": {
   "codemirror_mode": {
    "name": "ipython",
    "version": 3
   },
   "file_extension": ".py",
   "mimetype": "text/x-python",
   "name": "python",
   "nbconvert_exporter": "python",
   "pygments_lexer": "ipython3",
   "version": "3.10.12"
  }
 },
 "nbformat": 4,
 "nbformat_minor": 5
}
